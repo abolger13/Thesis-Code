{
  "cells": [
    {
      "cell_type": "code",
      "source": [
        "import matplotlib.pyplot as plt\n",
        "import seaborn as sns\n",
        "import pandas as pd\n",
        "import os\n",
        "import requests\n",
        "from bs4 import BeautifulSoup\n",
        "import numpy as np\n",
        "from metar import Metar\n",
        "from google.colab import drive\n",
        "# All the libraries needed for this part of the thesis"
      ],
      "metadata": {
        "id": "D8EpvndA4-ti"
      },
      "execution_count": null,
      "outputs": []
    },
    {
      "cell_type": "code",
      "execution_count": null,
      "metadata": {
        "colab": {
          "base_uri": "https://localhost:8080/"
        },
        "id": "cQ3tOXTRn0Sx",
        "outputId": "cd1493e2-a3c1-43cc-b9f9-1ba099bca8ef"
      },
      "outputs": [
        {
          "output_type": "stream",
          "name": "stdout",
          "text": [
            "Collecting metar\n",
            "  Downloading metar-1.11.0-py3-none-any.whl.metadata (1.7 kB)\n",
            "Downloading metar-1.11.0-py3-none-any.whl (201 kB)\n",
            "\u001b[2K   \u001b[90m━━━━━━━━━━━━━━━━━━━━━━━━━━━━━━━━━━━━━━━━\u001b[0m \u001b[32m201.4/201.4 kB\u001b[0m \u001b[31m3.3 MB/s\u001b[0m eta \u001b[36m0:00:00\u001b[0m\n",
            "\u001b[?25hInstalling collected packages: metar\n",
            "Successfully installed metar-1.11.0\n"
          ]
        }
      ],
      "source": [
        "pip install metar\n",
        "# crucial for the parsing to turn into usable values for analysis"
      ]
    },
    {
      "cell_type": "code",
      "source": [
        "#Script for scraping and processing METAR weather data for Dublin Airport (EIDW) from Ogimet.\n",
        "#Steps:\n",
        "#1. Scrape monthly METAR data from URLs.\n",
        "#2. Parse data using the `metar` library.\n",
        "#3. Calculate additional metrics (e.g. humidity).\n",
        "#4. Save monthly and combine into one ordered file.\n",
        "#5. Basic exploratory analysis.\n"
      ],
      "metadata": {
        "id": "_1KaZ5xd6KA6"
      },
      "execution_count": null,
      "outputs": []
    },
    {
      "cell_type": "markdown",
      "source": [
        "# Data retrieval stage"
      ],
      "metadata": {
        "id": "zsAFKqVn6KzS"
      }
    },
    {
      "cell_type": "code",
      "execution_count": null,
      "metadata": {
        "colab": {
          "base_uri": "https://localhost:8080/"
        },
        "id": "a5zTl77zmcsa",
        "outputId": "2fddf9b0-a399-426f-b358-8cb0471bdf9d"
      },
      "outputs": [
        {
          "output_type": "stream",
          "name": "stdout",
          "text": [
            "Mounted at /content/drive\n"
          ]
        }
      ],
      "source": [
        "drive.mount('/content/drive')"
      ]
    },
    {
      "cell_type": "code",
      "execution_count": null,
      "metadata": {
        "colab": {
          "base_uri": "https://localhost:8080/"
        },
        "id": "TPbjLpm8moh0",
        "outputId": "b3b4f169-5413-4f60-93b9-0f337d6b303b"
      },
      "outputs": [
        {
          "output_type": "stream",
          "name": "stdout",
          "text": [
            "/content/drive/MyDrive/Final Year Project/Data/Joined Datasets\n"
          ]
        }
      ],
      "source": [
        "os.chdir('/content/drive/MyDrive/Final Year Project/Data/Joined Datasets')\n",
        "!pwd"
      ]
    },
    {
      "cell_type": "markdown",
      "source": [
        "# DATA SCRAPING the weather data for each month"
      ],
      "metadata": {
        "id": "HrC2at7C0EV3"
      }
    },
    {
      "cell_type": "markdown",
      "source": [
        "## This process was repeated 12 times once for each month and stored in individual csv file after being parsed using METAR"
      ],
      "metadata": {
        "id": "OmBtb1iO0LOW"
      }
    },
    {
      "cell_type": "code",
      "execution_count": null,
      "metadata": {
        "colab": {
          "base_uri": "https://localhost:8080/"
        },
        "id": "e-x4SS2pjS_Y",
        "outputId": "f6a50bab-0743-4115-fc07-95e7e8f7a9d9"
      },
      "outputs": [
        {
          "output_type": "stream",
          "name": "stdout",
          "text": [
            "Total METARs found: 1649\n",
            "First few METARs: ['METAR EIDW 010000Z 25010KT 210V290 9999 -RA FEW007 SCT011 BKN035 07/05 Q1002 NOSIG=', 'METAR EIDW 010030Z 26011KT 8000 -RA FEW011 SCT016 BKN040 06/05 Q1002 NOSIG=', 'METAR EIDW 010100Z 26012KT 230V290 8000 -RA FEW011 SCT014 BKN025 06/05 Q1001 NOSIG=', 'METAR EIDW 010130Z 26014KT 8000 -RA FEW011 SCT014 BKN025 06/04 Q1001 NOSIG=', 'METAR EIDW 010200Z 26014KT 8000 -RA FEW011 SCT014 BKN030 06/04 Q1001 NOSIG=']\n"
          ]
        }
      ],
      "source": [
        "# EXAMPLE URL to access the wether data will put other url in a comment below\n",
        "url = \"https://www.ogimet.com/display_metars2.php?lang=en&lugar=EIDW&tipo=ALL&ord=DIR&nil=SI&fmt=html&ano=2025&mes=01&day=01&hora=00&anof=2025&mesf=01&dayf=31&horaf=23&minf=59&send=send\"\n",
        "headers = {\n",
        "    \"User-Agent\": \"Mozilla/5.0 (Windows NT 10.0; Win64; x64) AppleWebKit/537.36 (KHTML, like Gecko) Chrome/120.0.0.0 Safari/537.36\"\n",
        "}\n",
        "\n",
        "# Make the request with headers\n",
        "response = requests.get(url, headers=headers)\n",
        "\n",
        "# Parse the pages content\n",
        "soup = BeautifulSoup(response.text, 'html.parser')\n",
        "\n",
        "# Extract METAR strings from all of the <pre> tags\n",
        "metar_strings = [td.get_text().strip() for td in soup.find_all('pre')]\n",
        "\n",
        "# Verify scraped METAR values by the count and the display of first 5\n",
        "print(f\"Total METARs found: {len(metar_strings)}\")\n",
        "print(\"First few METARs:\", metar_strings[:5])\n",
        "\n",
        "\n"
      ]
    },
    {
      "cell_type": "markdown",
      "source": [
        "\\ March 2024 - https://www.ogimet.com/display_metars2.php?lang=en&lugar=EIDW&tipo=ALL&ord=REV&nil=SI&fmt=html&ano=2024&mes=03&day=01&hora=00&anof=2024&mesf=03&dayf=31&horaf=23&minf=59&send=send,\n",
        "\n",
        "April 2024 - https://www.ogimet.com/display_metars2.php?lang=en&lugar=EIDW&tipo=ALL&ord=DIR&nil=SI&fmt=html&ano=2024&mes=04&day=01&hora=00&anof=2024&mesf=04&dayf=30&horaf=23&minf=59&send=send,\n",
        "\n",
        "May 2024 - https://www.ogimet.com/display_metars2.php?lang=en&lugar=EIDW&tipo=ALL&ord=DIR&nil=SI&fmt=html&ano=2024&mes=05&day=01&hora=00&anof=2024&mesf=05&dayf=31&horaf=23&minf=59&send=send,\n",
        "\n",
        "June 2024 - https://www.ogimet.com/display_metars2.php?lang=en&lugar=EIDW&tipo=ALL&ord=DIR&nil=SI&fmt=html&ano=2024&mes=06&day=01&hora=00&anof=2024&mesf=06&dayf=30&horaf=23&minf=59&send=send,\n",
        "\n",
        "July 2024 - https://www.ogimet.com/display_metars2.php?lang=en&lugar=EIDW&tipo=ALL&ord=DIR&nil=SI&fmt=html&ano=2024&mes=07&day=01&hora=00&anof=2024&mesf=07&dayf=31&horaf=23&minf=59&send=send,\n",
        "\n",
        "August 2024 - https://www.ogimet.com/display_metars2.php?lang=en&lugar=EIDW&tipo=ALL&ord=DIR&nil=SI&fmt=html&ano=2024&mes=08&day=01&hora=00&anof=2024&mesf=08&dayf=31&horaf=23&minf=59&send=send,\n",
        "\n",
        "September 2024 - https://www.ogimet.com/display_metars2.php?lang=en&lugar=EIDW&tipo=ALL&ord=DIR&nil=SI&fmt=html&ano=2024&mes=09&day=01&hora=00&anof=2024&mesf=09&dayf=30&horaf=23&minf=59&send=send,\n",
        "\n",
        "October 2024 - https://www.ogimet.com/display_metars2.php?lang=en&lugar=EIDW&tipo=ALL&ord=DIR&nil=SI&fmt=html&ano=2024&mes=10&day=01&hora=00&anof=2024&mesf=10&dayf=31&horaf=23&minf=59&send=send,\n",
        "\n",
        "November 2024 - https://www.ogimet.com/display_metars2.php?lang=en&lugar=EIDW&tipo=ALL&ord=DIR&nil=SI&fmt=html&ano=2024&mes=11&day=01&hora=00&anof=2024&mesf=11&dayf=30&horaf=23&minf=59&send=send,\n",
        "\n",
        "December 2024 - https://www.ogimet.com/display_metars2.php?lang=en&lugar=EIDW&tipo=ALL&ord=DIR&nil=SI&fmt=html&ano=2024&mes=12&day=01&hora=00&anof=2024&mesf=12&dayf=31&horaf=23&minf=59&send=send\n",
        "\n",
        "January 2025 - https://www.ogimet.com/display_metars2.php?lang=en&lugar=EIDW&tipo=ALL&ord=DIR&nil=SI&fmt=html&ano=2025&mes=01&day=01&hora=00&anof=2025&mesf=01&dayf=31&horaf=23&minf=59&send=send\n",
        "\n",
        "February 2025 - https://www.ogimet.com/display_metars2.php?lang=en&lugar=EIDW&tipo=ALL&ord=REV&nil=SI&fmt=html&ano=2025&mes=02&day=01&hora=00&anof=2025&mesf=02&dayf=28&horaf=23&minf=59&send=send"
      ],
      "metadata": {
        "id": "1HYrdn_X_11t"
      }
    },
    {
      "cell_type": "markdown",
      "source": [
        "This is the list of the links to the weather data each parsed individually"
      ],
      "metadata": {
        "id": "bznjAAHz5f2Z"
      }
    },
    {
      "cell_type": "code",
      "execution_count": null,
      "metadata": {
        "id": "GU8YWLozwfIw"
      },
      "outputs": [],
      "source": [
        "# humidity function\n",
        "def calculate_humidity(temp, dew_point):\n",
        "    if temp == \"N/A\" or dew_point == \"N/A\":\n",
        "        return \"N/A\"\n",
        "    return round(100 * (np.exp((17.625 * dew_point) / (243.04 + dew_point)) / np.exp((17.625 * temp) / (243.04 + temp))), 2)\n",
        "# The values are from Magnus-Tetens approximation used to calculate the relative humidity."
      ]
    },
    {
      "cell_type": "code",
      "source": [
        "data = []\n",
        "\n",
        "# runs a loop for every string stored the scraping and parses it into the respective values below\n",
        "for metar_string in metar_strings:\n",
        "    try:\n",
        "        metar = Metar.Metar(metar_string)  # Parse METAR data\n",
        "\n",
        "# Ensuring date-time formatting correctly\n",
        "        observation_time = metar.time.replace(tzinfo=None).strftime('%Y-%m-%d %H:%M:%S') if metar.time else \"N/A\"\n",
        "\n",
        "        data.append({\n",
        "            \"Station\": metar.station_id,\n",
        "            \"Observation Time\": observation_time,\n",
        "            \"Wind Speed (KT)\": metar.wind_speed.value(\"KT\") if metar.wind_speed else \"N/A\",\n",
        "            \"Visibility (m)\": metar.vis.value(\"m\") if metar.vis else \"N/A\",\n",
        "            \"Temperature (C)\": metar.temp.value(\"C\") if metar.temp else \"N/A\",\n",
        "            \"Dew Point (C)\": metar.dewpt.value(\"C\") if metar.dewpt else \"N/A\",\n",
        "            \"Pressure (hPa)\": metar.press.value(\"hPa\") if metar.press else \"N/A\",\n",
        "            \"Humidity (%)\": calculate_humidity(metar.temp.value(\"C\"), metar.dewpt.value(\"C\")) if metar.temp and metar.dewpt else \"N/A\",\n",
        "        })\n",
        "    except Exception as e:\n",
        "        print(\"Error parsing METAR:\", e)\n",
        "\n",
        "# Converted METAR data to DataFrame\n",
        "df = pd.DataFrame(data)\n",
        "\n",
        "# Making sure Observation Time column is treated as datetime format\n",
        "df[\"Observation Time\"] = pd.to_datetime(df[\"Observation Time\"], errors='coerce')\n",
        "\n",
        "# stores into the respective month that is being done at the time\n",
        "df.to_csv(\"January_Metar.csv\", index=False)\n",
        "\n",
        "# Display first few rows to verify\n",
        "print(df.head())\n"
      ],
      "metadata": {
        "colab": {
          "base_uri": "https://localhost:8080/",
          "height": 211
        },
        "id": "NhVEMA9ffCwl",
        "outputId": "02b9f9ef-9da4-4110-eb50-3fd4207e6f62"
      },
      "execution_count": 1,
      "outputs": [
        {
          "output_type": "error",
          "ename": "NameError",
          "evalue": "name 'metar_strings' is not defined",
          "traceback": [
            "\u001b[0;31m---------------------------------------------------------------------------\u001b[0m",
            "\u001b[0;31mNameError\u001b[0m                                 Traceback (most recent call last)",
            "\u001b[0;32m<ipython-input-1-b19254294a2a>\u001b[0m in \u001b[0;36m<cell line: 0>\u001b[0;34m()\u001b[0m\n\u001b[1;32m      2\u001b[0m \u001b[0;34m\u001b[0m\u001b[0m\n\u001b[1;32m      3\u001b[0m \u001b[0;31m# runs a loop for every string stored the scraping and parses it into the respective values below\u001b[0m\u001b[0;34m\u001b[0m\u001b[0;34m\u001b[0m\u001b[0m\n\u001b[0;32m----> 4\u001b[0;31m \u001b[0;32mfor\u001b[0m \u001b[0mmetar_string\u001b[0m \u001b[0;32min\u001b[0m \u001b[0mmetar_strings\u001b[0m\u001b[0;34m:\u001b[0m\u001b[0;34m\u001b[0m\u001b[0;34m\u001b[0m\u001b[0m\n\u001b[0m\u001b[1;32m      5\u001b[0m     \u001b[0;32mtry\u001b[0m\u001b[0;34m:\u001b[0m\u001b[0;34m\u001b[0m\u001b[0;34m\u001b[0m\u001b[0m\n\u001b[1;32m      6\u001b[0m         \u001b[0mmetar\u001b[0m \u001b[0;34m=\u001b[0m \u001b[0mMetar\u001b[0m\u001b[0;34m.\u001b[0m\u001b[0mMetar\u001b[0m\u001b[0;34m(\u001b[0m\u001b[0mmetar_string\u001b[0m\u001b[0;34m)\u001b[0m  \u001b[0;31m# Parse METAR data\u001b[0m\u001b[0;34m\u001b[0m\u001b[0;34m\u001b[0m\u001b[0m\n",
            "\u001b[0;31mNameError\u001b[0m: name 'metar_strings' is not defined"
          ]
        }
      ]
    },
    {
      "cell_type": "markdown",
      "source": [
        "# If want to join all at the same time"
      ],
      "metadata": {
        "id": "fcggTiSY2yZ9"
      }
    },
    {
      "cell_type": "code",
      "execution_count": null,
      "metadata": {
        "colab": {
          "base_uri": "https://localhost:8080/",
          "height": 211
        },
        "id": "nwwuRcMt5EKE",
        "outputId": "09232d9c-f102-4ee4-e767-8a69d2feb72e"
      },
      "outputs": [
        {
          "output_type": "error",
          "ename": "NameError",
          "evalue": "name 'requests' is not defined",
          "traceback": [
            "\u001b[0;31m---------------------------------------------------------------------------\u001b[0m",
            "\u001b[0;31mNameError\u001b[0m                                 Traceback (most recent call last)",
            "\u001b[0;32m<ipython-input-1-d999b250652c>\u001b[0m in \u001b[0;36m<cell line: 0>\u001b[0;34m()\u001b[0m\n\u001b[1;32m     24\u001b[0m \u001b[0;34m\u001b[0m\u001b[0m\n\u001b[1;32m     25\u001b[0m \u001b[0;32mfor\u001b[0m \u001b[0murl\u001b[0m \u001b[0;32min\u001b[0m \u001b[0murls\u001b[0m\u001b[0;34m:\u001b[0m\u001b[0;34m\u001b[0m\u001b[0;34m\u001b[0m\u001b[0m\n\u001b[0;32m---> 26\u001b[0;31m     \u001b[0mresponse\u001b[0m \u001b[0;34m=\u001b[0m \u001b[0mrequests\u001b[0m\u001b[0;34m.\u001b[0m\u001b[0mget\u001b[0m\u001b[0;34m(\u001b[0m\u001b[0murl\u001b[0m\u001b[0;34m)\u001b[0m\u001b[0;34m\u001b[0m\u001b[0;34m\u001b[0m\u001b[0m\n\u001b[0m\u001b[1;32m     27\u001b[0m     \u001b[0msoup\u001b[0m \u001b[0;34m=\u001b[0m \u001b[0mBeautifulSoup\u001b[0m\u001b[0;34m(\u001b[0m\u001b[0mresponse\u001b[0m\u001b[0;34m.\u001b[0m\u001b[0mtext\u001b[0m\u001b[0;34m,\u001b[0m \u001b[0;34m'html.parser'\u001b[0m\u001b[0;34m)\u001b[0m\u001b[0;34m\u001b[0m\u001b[0;34m\u001b[0m\u001b[0m\n\u001b[1;32m     28\u001b[0m \u001b[0;34m\u001b[0m\u001b[0m\n",
            "\u001b[0;31mNameError\u001b[0m: name 'requests' is not defined"
          ]
        }
      ],
      "source": [
        "# Function to calculate relative humidity\n",
        "def calculate_humidity(temp, dew_point):\n",
        "    if temp == \"N/A\" or dew_point == \"N/A\":\n",
        "        return \"N/A\"\n",
        "    return round(100 * (np.exp((17.625 * dew_point) / (243.04 + dew_point)) /\n",
        "                        np.exp((17.625 * temp) / (243.04 + temp))), 2)\n",
        "\n",
        "# List of URLs to scrape METAR data from\n",
        "urls = [\"https://www.ogimet.com/display_metars2.php?lang=en&lugar=EIDW&tipo=SA&ord=DIR&nil=SI&fmt=html&ano=2024&mes=01&day=01&hora=00&anof=2024&mesf=01&dayf=31&horaf=23&minf=59&send=send\",\n",
        "\"https://www.ogimet.com/display_metars2.php?lang=en&lugar=EIDW&tipo=SA&ord=DIR&nil=SI&fmt=html&ano=2024&mes=02&day=01&hora=00&anof=2024&mesf=02&dayf=29&horaf=23&minf=59&send=send\",\n",
        "\"https://www.ogimet.com/display_metars2.php?lang=en&lugar=EIDW&tipo=ALL&ord=REV&nil=SI&fmt=html&ano=2024&mes=03&day=01&hora=00&anof=2024&mesf=03&dayf=31&horaf=23&minf=59&send=send\",\n",
        "\"https://www.ogimet.com/display_metars2.php?lang=en&lugar=EIDW&tipo=ALL&ord=DIR&nil=SI&fmt=html&ano=2024&mes=04&day=01&hora=00&anof=2024&mesf=04&dayf=30&horaf=23&minf=59&send=send\",\n",
        "\"https://www.ogimet.com/display_metars2.php?lang=en&lugar=EIDW&tipo=ALL&ord=DIR&nil=SI&fmt=html&ano=2024&mes=05&day=01&hora=00&anof=2024&mesf=05&dayf=31&horaf=23&minf=59&send=send\",\n",
        "\"https://www.ogimet.com/display_metars2.php?lang=en&lugar=EIDW&tipo=ALL&ord=DIR&nil=SI&fmt=html&ano=2024&mes=06&day=01&hora=00&anof=2024&mesf=06&dayf=30&horaf=23&minf=59&send=send\",\n",
        "\"https://www.ogimet.com/display_metars2.php?lang=en&lugar=EIDW&tipo=ALL&ord=DIR&nil=SI&fmt=html&ano=2024&mes=07&day=01&hora=00&anof=2024&mesf=07&dayf=31&horaf=23&minf=59&send=send\",\n",
        "\"https://www.ogimet.com/display_metars2.php?lang=en&lugar=EIDW&tipo=ALL&ord=DIR&nil=SI&fmt=html&ano=2024&mes=08&day=01&hora=00&anof=2024&mesf=08&dayf=31&horaf=23&minf=59&send=send\",\n",
        "\"https://www.ogimet.com/display_metars2.php?lang=en&lugar=EIDW&tipo=ALL&ord=DIR&nil=SI&fmt=html&ano=2024&mes=09&day=01&hora=00&anof=2024&mesf=09&dayf=30&horaf=23&minf=59&send=send\",\n",
        "\"https://www.ogimet.com/display_metars2.php?lang=en&lugar=EIDW&tipo=ALL&ord=DIR&nil=SI&fmt=html&ano=2024&mes=10&day=01&hora=00&anof=2024&mesf=10&dayf=31&horaf=23&minf=59&send=send\",\n",
        "\"https://www.ogimet.com/display_metars2.php?lang=en&lugar=EIDW&tipo=ALL&ord=DIR&nil=SI&fmt=html&ano=2024&mes=11&day=01&hora=00&anof=2024&mesf=11&dayf=30&horaf=23&minf=59&send=send\",\n",
        "\"https://www.ogimet.com/display_metars2.php?lang=en&lugar=EIDW&tipo=ALL&ord=DIR&nil=SI&fmt=html&ano=2024&mes=12&day=01&hora=00&anof=2024&mesf=12&dayf=31&horaf=23&minf=59&send=send\"\n",
        "]\n",
        "\n",
        "data = []  # Store parsed METAR data\n",
        "\n",
        "for url in urls:\n",
        "    response = requests.get(url)\n",
        "    soup = BeautifulSoup(response.text, 'html.parser')\n",
        "\n",
        "    # Extract METAR strings from <pre> tags\n",
        "    metar_strings = [pre.get_text().strip() for pre in soup.find_all('pre')]\n",
        "\n",
        "    for metar_string in metar_strings:\n",
        "        try:\n",
        "            metar = Metar.Metar(metar_string)  # Parse METAR data\n",
        "            temp_c = metar.temp.value(\"C\") if metar.temp else \"N/A\"\n",
        "            dew_c = metar.dewpt.value(\"C\") if metar.dewpt else \"N/A\"\n",
        "\n",
        "            data.append({\n",
        "                \"Station\": metar.station_id,\n",
        "                \"Observation Time\": metar.time.strftime('%Y-%m-%d %H:%M:%S') if metar.time else \"N/A\",\n",
        "                \"Wind Speed (KT)\": metar.wind_speed.value(\"KT\") if metar.wind_speed else \"N/A\",\n",
        "                \"Visibility (m)\": metar.vis.value(\"m\") if metar.vis else \"N/A\",\n",
        "                \"Temperature (C)\": temp_c,\n",
        "                \"Dew Point (C)\": dew_c,\n",
        "                \"Humidity (%)\": calculate_humidity(temp_c, dew_c),\n",
        "                \"Pressure (hPa)\": metar.press.value(\"hPa\") if metar.press else \"N/A\",\n",
        "            })\n",
        "        except Exception as e:\n",
        "            print(\"Error parsing METAR:\", e)\n",
        "\n",
        "# Convert to DataFrame and append to CSV\n",
        "df = pd.DataFrame(data)\n",
        "df.to_csv(\"metar_data.csv\", mode='a', index=False, header=not pd.io.common.file_exists(\"metar_data.csv\"))\n",
        "\n",
        "print(\"CSV file updated successfully with new METAR data!\")\n"
      ]
    },
    {
      "cell_type": "markdown",
      "metadata": {
        "id": "Nheee9-qhIfW"
      },
      "source": [
        "JOINING THE 12 DATASETS TOGETHER AND ORDERING THEM BY DATE AND TIME"
      ]
    },
    {
      "cell_type": "code",
      "execution_count": null,
      "metadata": {
        "id": "w_uifE0qhIWP"
      },
      "outputs": [],
      "source": [
        "# Opens the folder that contains all 12 months worth of weather values\n",
        "folder_path = \"/content/drive/MyDrive/Final Year Project/Data/weather data\"\n",
        "\n",
        "# Get all CSV files in the folder\n",
        "csv_files = [f for f in os.listdir(folder_path) if f.endswith('.csv')]\n",
        "\n",
        "# Read and concatenate all CSVs\n",
        "df_list = [pd.read_csv(os.path.join(folder_path, file)) for file in csv_files]\n",
        "#join all the csv files in the folder - the weather data is the only ones in there\n",
        "merged_df = pd.concat(df_list, ignore_index=True)\n",
        "\n",
        "# merged file saved\n",
        "merged_df.to_csv(\"/content/drive/MyDrive/Final Year Project/Data/merged_output.csv\", index=False)\n",
        "\n",
        "\n",
        "print(\"All files have been merged successfully!\")\n"
      ]
    },
    {
      "cell_type": "code",
      "execution_count": null,
      "metadata": {
        "id": "tGata7OJjA9L"
      },
      "outputs": [],
      "source": [
        "# merged CSV file\n",
        "df = pd.read_csv(\"merged_output.csv\")\n",
        "\n",
        "# Convert the 'Observation Time' column to datetime format to make sure it is\n",
        "df['Observation Time'] = pd.to_datetime(df['Observation Time'], dayfirst=True, errors='coerce')\n",
        "\n",
        "# Sort by date and time satrting with the older value moving more recent as you go down\n",
        "df = df.sort_values(by='Observation Time')\n",
        "\n",
        "# sorted file\n",
        "df.to_csv(\"/content/drive/MyDrive/Final Year Project/Data/sorted_output.csv\", index=False)\n",
        "\n",
        "print(\"File sorted successfully!\")\n"
      ]
    },
    {
      "cell_type": "markdown",
      "metadata": {
        "id": "PUp90-5LzXTG"
      },
      "source": [
        "# EDA OF THE WEATHER DATA SET BY ITSELF"
      ]
    },
    {
      "cell_type": "markdown",
      "source": [
        "## Test for Null values and perform basic analysis of the completed data set"
      ],
      "metadata": {
        "id": "xLdjurmb4eAi"
      }
    },
    {
      "cell_type": "code",
      "execution_count": null,
      "metadata": {
        "id": "j1K7OmLDhWcm"
      },
      "outputs": [],
      "source": [
        "df = pd.read_csv(\"sorted_output.csv\")# inspect the final weather data set"
      ]
    },
    {
      "cell_type": "code",
      "execution_count": null,
      "metadata": {
        "colab": {
          "base_uri": "https://localhost:8080/",
          "height": 338
        },
        "id": "_5oXC28TyHx3",
        "outputId": "044aa301-67f4-4b78-e823-ec23d472c303"
      },
      "outputs": [
        {
          "output_type": "execute_result",
          "data": {
            "text/plain": [
              "       Wind Speed (KT)  Visibility (m)  Temperature (C)  Dew Point (C)  \\\n",
              "count     17485.000000    17484.000000     17485.000000   17485.000000   \n",
              "mean          9.351959     9481.903455        10.436031       7.313812   \n",
              "std           4.800564     1588.817855         4.739675       4.150365   \n",
              "min           0.000000      200.000000        -5.000000      -6.000000   \n",
              "25%           6.000000    10000.000000         7.000000       4.000000   \n",
              "50%           9.000000    10000.000000        11.000000       8.000000   \n",
              "75%          12.000000    10000.000000        14.000000      10.000000   \n",
              "max          44.000000    10000.000000        25.000000      19.000000   \n",
              "\n",
              "       Pressure (hPa)  Humidity (%)  \n",
              "count    17485.000000  17485.000000  \n",
              "mean      1013.148184     82.033902  \n",
              "std         12.342986     11.845591  \n",
              "min        968.000000     42.030000  \n",
              "25%       1006.000000     75.520000  \n",
              "50%       1014.000000     82.510000  \n",
              "75%       1022.000000     93.140000  \n",
              "max       1042.000000    106.950000  "
            ],
            "text/html": [
              "\n",
              "  <div id=\"df-2b10d87b-4c86-49f9-bd59-9e1c9ca44297\" class=\"colab-df-container\">\n",
              "    <div>\n",
              "<style scoped>\n",
              "    .dataframe tbody tr th:only-of-type {\n",
              "        vertical-align: middle;\n",
              "    }\n",
              "\n",
              "    .dataframe tbody tr th {\n",
              "        vertical-align: top;\n",
              "    }\n",
              "\n",
              "    .dataframe thead th {\n",
              "        text-align: right;\n",
              "    }\n",
              "</style>\n",
              "<table border=\"1\" class=\"dataframe\">\n",
              "  <thead>\n",
              "    <tr style=\"text-align: right;\">\n",
              "      <th></th>\n",
              "      <th>Wind Speed (KT)</th>\n",
              "      <th>Visibility (m)</th>\n",
              "      <th>Temperature (C)</th>\n",
              "      <th>Dew Point (C)</th>\n",
              "      <th>Pressure (hPa)</th>\n",
              "      <th>Humidity (%)</th>\n",
              "    </tr>\n",
              "  </thead>\n",
              "  <tbody>\n",
              "    <tr>\n",
              "      <th>count</th>\n",
              "      <td>17485.000000</td>\n",
              "      <td>17484.000000</td>\n",
              "      <td>17485.000000</td>\n",
              "      <td>17485.000000</td>\n",
              "      <td>17485.000000</td>\n",
              "      <td>17485.000000</td>\n",
              "    </tr>\n",
              "    <tr>\n",
              "      <th>mean</th>\n",
              "      <td>9.351959</td>\n",
              "      <td>9481.903455</td>\n",
              "      <td>10.436031</td>\n",
              "      <td>7.313812</td>\n",
              "      <td>1013.148184</td>\n",
              "      <td>82.033902</td>\n",
              "    </tr>\n",
              "    <tr>\n",
              "      <th>std</th>\n",
              "      <td>4.800564</td>\n",
              "      <td>1588.817855</td>\n",
              "      <td>4.739675</td>\n",
              "      <td>4.150365</td>\n",
              "      <td>12.342986</td>\n",
              "      <td>11.845591</td>\n",
              "    </tr>\n",
              "    <tr>\n",
              "      <th>min</th>\n",
              "      <td>0.000000</td>\n",
              "      <td>200.000000</td>\n",
              "      <td>-5.000000</td>\n",
              "      <td>-6.000000</td>\n",
              "      <td>968.000000</td>\n",
              "      <td>42.030000</td>\n",
              "    </tr>\n",
              "    <tr>\n",
              "      <th>25%</th>\n",
              "      <td>6.000000</td>\n",
              "      <td>10000.000000</td>\n",
              "      <td>7.000000</td>\n",
              "      <td>4.000000</td>\n",
              "      <td>1006.000000</td>\n",
              "      <td>75.520000</td>\n",
              "    </tr>\n",
              "    <tr>\n",
              "      <th>50%</th>\n",
              "      <td>9.000000</td>\n",
              "      <td>10000.000000</td>\n",
              "      <td>11.000000</td>\n",
              "      <td>8.000000</td>\n",
              "      <td>1014.000000</td>\n",
              "      <td>82.510000</td>\n",
              "    </tr>\n",
              "    <tr>\n",
              "      <th>75%</th>\n",
              "      <td>12.000000</td>\n",
              "      <td>10000.000000</td>\n",
              "      <td>14.000000</td>\n",
              "      <td>10.000000</td>\n",
              "      <td>1022.000000</td>\n",
              "      <td>93.140000</td>\n",
              "    </tr>\n",
              "    <tr>\n",
              "      <th>max</th>\n",
              "      <td>44.000000</td>\n",
              "      <td>10000.000000</td>\n",
              "      <td>25.000000</td>\n",
              "      <td>19.000000</td>\n",
              "      <td>1042.000000</td>\n",
              "      <td>106.950000</td>\n",
              "    </tr>\n",
              "  </tbody>\n",
              "</table>\n",
              "</div>\n",
              "    <div class=\"colab-df-buttons\">\n",
              "\n",
              "  <div class=\"colab-df-container\">\n",
              "    <button class=\"colab-df-convert\" onclick=\"convertToInteractive('df-2b10d87b-4c86-49f9-bd59-9e1c9ca44297')\"\n",
              "            title=\"Convert this dataframe to an interactive table.\"\n",
              "            style=\"display:none;\">\n",
              "\n",
              "  <svg xmlns=\"http://www.w3.org/2000/svg\" height=\"24px\" viewBox=\"0 -960 960 960\">\n",
              "    <path d=\"M120-120v-720h720v720H120Zm60-500h600v-160H180v160Zm220 220h160v-160H400v160Zm0 220h160v-160H400v160ZM180-400h160v-160H180v160Zm440 0h160v-160H620v160ZM180-180h160v-160H180v160Zm440 0h160v-160H620v160Z\"/>\n",
              "  </svg>\n",
              "    </button>\n",
              "\n",
              "  <style>\n",
              "    .colab-df-container {\n",
              "      display:flex;\n",
              "      gap: 12px;\n",
              "    }\n",
              "\n",
              "    .colab-df-convert {\n",
              "      background-color: #E8F0FE;\n",
              "      border: none;\n",
              "      border-radius: 50%;\n",
              "      cursor: pointer;\n",
              "      display: none;\n",
              "      fill: #1967D2;\n",
              "      height: 32px;\n",
              "      padding: 0 0 0 0;\n",
              "      width: 32px;\n",
              "    }\n",
              "\n",
              "    .colab-df-convert:hover {\n",
              "      background-color: #E2EBFA;\n",
              "      box-shadow: 0px 1px 2px rgba(60, 64, 67, 0.3), 0px 1px 3px 1px rgba(60, 64, 67, 0.15);\n",
              "      fill: #174EA6;\n",
              "    }\n",
              "\n",
              "    .colab-df-buttons div {\n",
              "      margin-bottom: 4px;\n",
              "    }\n",
              "\n",
              "    [theme=dark] .colab-df-convert {\n",
              "      background-color: #3B4455;\n",
              "      fill: #D2E3FC;\n",
              "    }\n",
              "\n",
              "    [theme=dark] .colab-df-convert:hover {\n",
              "      background-color: #434B5C;\n",
              "      box-shadow: 0px 1px 3px 1px rgba(0, 0, 0, 0.15);\n",
              "      filter: drop-shadow(0px 1px 2px rgba(0, 0, 0, 0.3));\n",
              "      fill: #FFFFFF;\n",
              "    }\n",
              "  </style>\n",
              "\n",
              "    <script>\n",
              "      const buttonEl =\n",
              "        document.querySelector('#df-2b10d87b-4c86-49f9-bd59-9e1c9ca44297 button.colab-df-convert');\n",
              "      buttonEl.style.display =\n",
              "        google.colab.kernel.accessAllowed ? 'block' : 'none';\n",
              "\n",
              "      async function convertToInteractive(key) {\n",
              "        const element = document.querySelector('#df-2b10d87b-4c86-49f9-bd59-9e1c9ca44297');\n",
              "        const dataTable =\n",
              "          await google.colab.kernel.invokeFunction('convertToInteractive',\n",
              "                                                    [key], {});\n",
              "        if (!dataTable) return;\n",
              "\n",
              "        const docLinkHtml = 'Like what you see? Visit the ' +\n",
              "          '<a target=\"_blank\" href=https://colab.research.google.com/notebooks/data_table.ipynb>data table notebook</a>'\n",
              "          + ' to learn more about interactive tables.';\n",
              "        element.innerHTML = '';\n",
              "        dataTable['output_type'] = 'display_data';\n",
              "        await google.colab.output.renderOutput(dataTable, element);\n",
              "        const docLink = document.createElement('div');\n",
              "        docLink.innerHTML = docLinkHtml;\n",
              "        element.appendChild(docLink);\n",
              "      }\n",
              "    </script>\n",
              "  </div>\n",
              "\n",
              "\n",
              "<div id=\"df-a8cbb987-6f8c-47f8-a990-e3a66aaa1afb\">\n",
              "  <button class=\"colab-df-quickchart\" onclick=\"quickchart('df-a8cbb987-6f8c-47f8-a990-e3a66aaa1afb')\"\n",
              "            title=\"Suggest charts\"\n",
              "            style=\"display:none;\">\n",
              "\n",
              "<svg xmlns=\"http://www.w3.org/2000/svg\" height=\"24px\"viewBox=\"0 0 24 24\"\n",
              "     width=\"24px\">\n",
              "    <g>\n",
              "        <path d=\"M19 3H5c-1.1 0-2 .9-2 2v14c0 1.1.9 2 2 2h14c1.1 0 2-.9 2-2V5c0-1.1-.9-2-2-2zM9 17H7v-7h2v7zm4 0h-2V7h2v10zm4 0h-2v-4h2v4z\"/>\n",
              "    </g>\n",
              "</svg>\n",
              "  </button>\n",
              "\n",
              "<style>\n",
              "  .colab-df-quickchart {\n",
              "      --bg-color: #E8F0FE;\n",
              "      --fill-color: #1967D2;\n",
              "      --hover-bg-color: #E2EBFA;\n",
              "      --hover-fill-color: #174EA6;\n",
              "      --disabled-fill-color: #AAA;\n",
              "      --disabled-bg-color: #DDD;\n",
              "  }\n",
              "\n",
              "  [theme=dark] .colab-df-quickchart {\n",
              "      --bg-color: #3B4455;\n",
              "      --fill-color: #D2E3FC;\n",
              "      --hover-bg-color: #434B5C;\n",
              "      --hover-fill-color: #FFFFFF;\n",
              "      --disabled-bg-color: #3B4455;\n",
              "      --disabled-fill-color: #666;\n",
              "  }\n",
              "\n",
              "  .colab-df-quickchart {\n",
              "    background-color: var(--bg-color);\n",
              "    border: none;\n",
              "    border-radius: 50%;\n",
              "    cursor: pointer;\n",
              "    display: none;\n",
              "    fill: var(--fill-color);\n",
              "    height: 32px;\n",
              "    padding: 0;\n",
              "    width: 32px;\n",
              "  }\n",
              "\n",
              "  .colab-df-quickchart:hover {\n",
              "    background-color: var(--hover-bg-color);\n",
              "    box-shadow: 0 1px 2px rgba(60, 64, 67, 0.3), 0 1px 3px 1px rgba(60, 64, 67, 0.15);\n",
              "    fill: var(--button-hover-fill-color);\n",
              "  }\n",
              "\n",
              "  .colab-df-quickchart-complete:disabled,\n",
              "  .colab-df-quickchart-complete:disabled:hover {\n",
              "    background-color: var(--disabled-bg-color);\n",
              "    fill: var(--disabled-fill-color);\n",
              "    box-shadow: none;\n",
              "  }\n",
              "\n",
              "  .colab-df-spinner {\n",
              "    border: 2px solid var(--fill-color);\n",
              "    border-color: transparent;\n",
              "    border-bottom-color: var(--fill-color);\n",
              "    animation:\n",
              "      spin 1s steps(1) infinite;\n",
              "  }\n",
              "\n",
              "  @keyframes spin {\n",
              "    0% {\n",
              "      border-color: transparent;\n",
              "      border-bottom-color: var(--fill-color);\n",
              "      border-left-color: var(--fill-color);\n",
              "    }\n",
              "    20% {\n",
              "      border-color: transparent;\n",
              "      border-left-color: var(--fill-color);\n",
              "      border-top-color: var(--fill-color);\n",
              "    }\n",
              "    30% {\n",
              "      border-color: transparent;\n",
              "      border-left-color: var(--fill-color);\n",
              "      border-top-color: var(--fill-color);\n",
              "      border-right-color: var(--fill-color);\n",
              "    }\n",
              "    40% {\n",
              "      border-color: transparent;\n",
              "      border-right-color: var(--fill-color);\n",
              "      border-top-color: var(--fill-color);\n",
              "    }\n",
              "    60% {\n",
              "      border-color: transparent;\n",
              "      border-right-color: var(--fill-color);\n",
              "    }\n",
              "    80% {\n",
              "      border-color: transparent;\n",
              "      border-right-color: var(--fill-color);\n",
              "      border-bottom-color: var(--fill-color);\n",
              "    }\n",
              "    90% {\n",
              "      border-color: transparent;\n",
              "      border-bottom-color: var(--fill-color);\n",
              "    }\n",
              "  }\n",
              "</style>\n",
              "\n",
              "  <script>\n",
              "    async function quickchart(key) {\n",
              "      const quickchartButtonEl =\n",
              "        document.querySelector('#' + key + ' button');\n",
              "      quickchartButtonEl.disabled = true;  // To prevent multiple clicks.\n",
              "      quickchartButtonEl.classList.add('colab-df-spinner');\n",
              "      try {\n",
              "        const charts = await google.colab.kernel.invokeFunction(\n",
              "            'suggestCharts', [key], {});\n",
              "      } catch (error) {\n",
              "        console.error('Error during call to suggestCharts:', error);\n",
              "      }\n",
              "      quickchartButtonEl.classList.remove('colab-df-spinner');\n",
              "      quickchartButtonEl.classList.add('colab-df-quickchart-complete');\n",
              "    }\n",
              "    (() => {\n",
              "      let quickchartButtonEl =\n",
              "        document.querySelector('#df-a8cbb987-6f8c-47f8-a990-e3a66aaa1afb button');\n",
              "      quickchartButtonEl.style.display =\n",
              "        google.colab.kernel.accessAllowed ? 'block' : 'none';\n",
              "    })();\n",
              "  </script>\n",
              "</div>\n",
              "\n",
              "    </div>\n",
              "  </div>\n"
            ],
            "application/vnd.google.colaboratory.intrinsic+json": {
              "type": "dataframe",
              "summary": "{\n  \"name\": \"df\",\n  \"rows\": 8,\n  \"fields\": [\n    {\n      \"column\": \"Wind Speed (KT)\",\n      \"properties\": {\n        \"dtype\": \"number\",\n        \"std\": 6177.594886185395,\n        \"min\": 0.0,\n        \"max\": 17485.0,\n        \"num_unique_values\": 8,\n        \"samples\": [\n          9.351958821847298,\n          9.0,\n          17485.0\n        ],\n        \"semantic_type\": \"\",\n        \"description\": \"\"\n      }\n    },\n    {\n      \"column\": \"Visibility (m)\",\n      \"properties\": {\n        \"dtype\": \"number\",\n        \"std\": 5441.370999871967,\n        \"min\": 200.0,\n        \"max\": 17484.0,\n        \"num_unique_values\": 5,\n        \"samples\": [\n          9481.90345458705,\n          10000.0,\n          1588.8178547052407\n        ],\n        \"semantic_type\": \"\",\n        \"description\": \"\"\n      }\n    },\n    {\n      \"column\": \"Temperature (C)\",\n      \"properties\": {\n        \"dtype\": \"number\",\n        \"std\": 6178.493960883326,\n        \"min\": -5.0,\n        \"max\": 17485.0,\n        \"num_unique_values\": 8,\n        \"samples\": [\n          10.436030883614526,\n          11.0,\n          17485.0\n        ],\n        \"semantic_type\": \"\",\n        \"description\": \"\"\n      }\n    },\n    {\n      \"column\": \"Dew Point (C)\",\n      \"properties\": {\n        \"dtype\": \"number\",\n        \"std\": 6179.538161150156,\n        \"min\": -6.0,\n        \"max\": 17485.0,\n        \"num_unique_values\": 8,\n        \"samples\": [\n          7.313811838718902,\n          8.0,\n          17485.0\n        ],\n        \"semantic_type\": \"\",\n        \"description\": \"\"\n      }\n    },\n    {\n      \"column\": \"Pressure (hPa)\",\n      \"properties\": {\n        \"dtype\": \"number\",\n        \"std\": 5885.338645756532,\n        \"min\": 12.342985616014273,\n        \"max\": 17485.0,\n        \"num_unique_values\": 8,\n        \"samples\": [\n          1013.1481841578496,\n          1014.0,\n          17485.0\n        ],\n        \"semantic_type\": \"\",\n        \"description\": \"\"\n      }\n    },\n    {\n      \"column\": \"Humidity (%)\",\n      \"properties\": {\n        \"dtype\": \"number\",\n        \"std\": 6157.002961140309,\n        \"min\": 11.84559122406511,\n        \"max\": 17485.0,\n        \"num_unique_values\": 8,\n        \"samples\": [\n          82.03390162996854,\n          82.51,\n          17485.0\n        ],\n        \"semantic_type\": \"\",\n        \"description\": \"\"\n      }\n    }\n  ]\n}"
            }
          },
          "metadata": {},
          "execution_count": 6
        }
      ],
      "source": [
        "df.describe()"
      ]
    },
    {
      "cell_type": "code",
      "execution_count": null,
      "metadata": {
        "colab": {
          "base_uri": "https://localhost:8080/"
        },
        "id": "z5S52wjgyIE2",
        "outputId": "4ad9529e-2479-4da0-9e36-d74c2ec1fd01"
      },
      "outputs": [
        {
          "output_type": "stream",
          "name": "stdout",
          "text": [
            "<class 'pandas.core.frame.DataFrame'>\n",
            "RangeIndex: 17485 entries, 0 to 17484\n",
            "Data columns (total 8 columns):\n",
            " #   Column            Non-Null Count  Dtype  \n",
            "---  ------            --------------  -----  \n",
            " 0   Station           17485 non-null  object \n",
            " 1   Observation Time  17485 non-null  object \n",
            " 2   Wind Speed (KT)   17485 non-null  int64  \n",
            " 3   Visibility (m)    17484 non-null  float64\n",
            " 4   Temperature (C)   17485 non-null  int64  \n",
            " 5   Dew Point (C)     17485 non-null  int64  \n",
            " 6   Pressure (hPa)    17485 non-null  int64  \n",
            " 7   Humidity (%)      17485 non-null  float64\n",
            "dtypes: float64(2), int64(4), object(2)\n",
            "memory usage: 1.1+ MB\n"
          ]
        }
      ],
      "source": [
        "df.info()"
      ]
    },
    {
      "cell_type": "code",
      "execution_count": null,
      "metadata": {
        "colab": {
          "base_uri": "https://localhost:8080/",
          "height": 335
        },
        "id": "E3ezytnryIXN",
        "outputId": "eb93ad38-9eb2-4fa5-f72a-e0e2f9f291c4"
      },
      "outputs": [
        {
          "output_type": "execute_result",
          "data": {
            "text/plain": [
              "Station             0\n",
              "Observation Time    0\n",
              "Wind Speed (KT)     0\n",
              "Visibility (m)      1\n",
              "Temperature (C)     0\n",
              "Dew Point (C)       0\n",
              "Pressure (hPa)      0\n",
              "Humidity (%)        0\n",
              "dtype: int64"
            ],
            "text/html": [
              "<div>\n",
              "<style scoped>\n",
              "    .dataframe tbody tr th:only-of-type {\n",
              "        vertical-align: middle;\n",
              "    }\n",
              "\n",
              "    .dataframe tbody tr th {\n",
              "        vertical-align: top;\n",
              "    }\n",
              "\n",
              "    .dataframe thead th {\n",
              "        text-align: right;\n",
              "    }\n",
              "</style>\n",
              "<table border=\"1\" class=\"dataframe\">\n",
              "  <thead>\n",
              "    <tr style=\"text-align: right;\">\n",
              "      <th></th>\n",
              "      <th>0</th>\n",
              "    </tr>\n",
              "  </thead>\n",
              "  <tbody>\n",
              "    <tr>\n",
              "      <th>Station</th>\n",
              "      <td>0</td>\n",
              "    </tr>\n",
              "    <tr>\n",
              "      <th>Observation Time</th>\n",
              "      <td>0</td>\n",
              "    </tr>\n",
              "    <tr>\n",
              "      <th>Wind Speed (KT)</th>\n",
              "      <td>0</td>\n",
              "    </tr>\n",
              "    <tr>\n",
              "      <th>Visibility (m)</th>\n",
              "      <td>1</td>\n",
              "    </tr>\n",
              "    <tr>\n",
              "      <th>Temperature (C)</th>\n",
              "      <td>0</td>\n",
              "    </tr>\n",
              "    <tr>\n",
              "      <th>Dew Point (C)</th>\n",
              "      <td>0</td>\n",
              "    </tr>\n",
              "    <tr>\n",
              "      <th>Pressure (hPa)</th>\n",
              "      <td>0</td>\n",
              "    </tr>\n",
              "    <tr>\n",
              "      <th>Humidity (%)</th>\n",
              "      <td>0</td>\n",
              "    </tr>\n",
              "  </tbody>\n",
              "</table>\n",
              "</div><br><label><b>dtype:</b> int64</label>"
            ]
          },
          "metadata": {},
          "execution_count": 8
        }
      ],
      "source": [
        "df.isnull().sum()"
      ]
    },
    {
      "cell_type": "code",
      "execution_count": null,
      "metadata": {
        "colab": {
          "base_uri": "https://localhost:8080/"
        },
        "id": "oiEZy4J_yiGF",
        "outputId": "7998e0a9-a9bb-4239-ae7a-1e21a6af60ec"
      },
      "outputs": [
        {
          "output_type": "stream",
          "name": "stdout",
          "text": [
            "     Station     Observation Time  Wind Speed (KT)  Visibility (m)  \\\n",
            "3713    EIDW  2024-05-17 10:30:00               11             NaN   \n",
            "\n",
            "      Temperature (C)  Dew Point (C)  Pressure (hPa)  Humidity (%)  \n",
            "3713               15             12            1010         82.26  \n",
            "Indices of rows with null values: Index([3713], dtype='int64')\n"
          ]
        }
      ],
      "source": [
        "null_rows = df[df.isnull().any(axis=1)]\n",
        "print(null_rows)\n",
        "\n",
        "# Get the index of the rows with null values\n",
        "null_indices = null_rows.index\n",
        "print(\"Indices of rows with null values:\", null_indices)"
      ]
    },
    {
      "cell_type": "code",
      "execution_count": null,
      "metadata": {
        "id": "4sT1b38Dgbtp"
      },
      "outputs": [],
      "source": [
        "df = df.drop(null_indices)"
      ]
    },
    {
      "cell_type": "markdown",
      "metadata": {
        "id": "QHMvHLh_hmQf"
      },
      "source": [
        "REMOVING THE NULL ROW IN THE DATASET ONLY ONE VALUE"
      ]
    },
    {
      "cell_type": "code",
      "execution_count": null,
      "metadata": {
        "colab": {
          "base_uri": "https://localhost:8080/",
          "height": 452
        },
        "id": "GmKGBWzfxfcp",
        "outputId": "02854647-42e1-4428-ae1e-3745806246c7"
      },
      "outputs": [
        {
          "output_type": "display_data",
          "data": {
            "text/plain": [
              "<Figure size 640x480 with 1 Axes>"
            ],
            "image/png": "[encoded data removed]"
          },
          "metadata": {}
        }
      ],
      "source": [
        "df['Temperature (C)'].hist(bins=30)\n",
        "plt.title(\"Temperature Distribution\")\n",
        "plt.show()\n"
      ]
    },
    {
      "cell_type": "code",
      "execution_count": null,
      "metadata": {
        "colab": {
          "base_uri": "https://localhost:8080/",
          "height": 455
        },
        "id": "gyW6KfDIxfaR",
        "outputId": "28b105bb-5b1c-4918-fcdc-841922bd424d"
      },
      "outputs": [
        {
          "output_type": "display_data",
          "data": {
            "text/plain": [
              "<Figure size 640x480 with 1 Axes>"
            ],
            "image/png": "[encoded data removed]"
          },
          "metadata": {}
        }
      ],
      "source": [
        "df['Observation Time'] = pd.to_datetime(df['Observation Time'])\n",
        "df.set_index('Observation Time', inplace=True)\n",
        "df['Temperature (C)'].plot()\n",
        "plt.title(\"Temperature Over Time\")\n",
        "plt.show()\n"
      ]
    },
    {
      "cell_type": "code",
      "execution_count": null,
      "metadata": {
        "colab": {
          "base_uri": "https://localhost:8080/",
          "height": 553
        },
        "id": "fLstogxAxfXZ",
        "outputId": "f6835693-013f-4753-90c0-20610ed18797"
      },
      "outputs": [
        {
          "output_type": "display_data",
          "data": {
            "text/plain": [
              "<Figure size 640x480 with 2 Axes>"
            ],
            "image/png": "[encoded data removed]"
          },
          "metadata": {}
        }
      ],
      "source": [
        "corr = df.drop('Station', axis=1).corr()\n",
        "\n",
        "sns.heatmap(corr, annot=True, cmap='coolwarm')\n",
        "plt.title(\"Correlation Matrix\")\n",
        "plt.show()\n"
      ]
    }
  ],
  "metadata": {
    "colab": {
      "provenance": []
    },
    "kernelspec": {
      "display_name": "Python 3",
      "name": "python3"
    },
    "language_info": {
      "name": "python"
    }
  },
  "nbformat": 4,
  "nbformat_minor": 0
}